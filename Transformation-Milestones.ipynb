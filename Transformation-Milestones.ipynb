{
 "cells": [
  {
   "cell_type": "markdown",
   "metadata": {},
   "source": [
    "# Verschieben der @n-Attribute aus den <milestone>-Elementen in <note>-Elemente"
   ]
  },
  {
   "cell_type": "code",
   "execution_count": null,
   "metadata": {},
   "outputs": [
    {
     "name": "stdout",
     "output_type": "stream",
     "text": [
      "Fertig! 0 milestones ohne note. Alle n-Werte kombiniert, nichts mehr überschrieben.\n"
     ]
    }
   ],
   "source": [
    "from lxml import etree\n",
    "import csv\n",
    "\n",
    "input_path = \"C:/Users/.../Schlegel-Briefe_zusammengefuehrt.xml\"\n",
    "output_path = \"C:/Users/.../Schlegel-Briefe_milestone_transformiert.xml\"\n",
    "csv_log_path = \"C:/Users/.../missing_notes_log.csv\"\n",
    "\n",
    "tree = etree.parse(input_path)\n",
    "root = tree.getroot()\n",
    "\n",
    "ns = {\"tei\": \"http://www.tei-c.org/ns/1.0\"}\n",
    "missing_n_entries = []\n",
    "\n",
    "for milestone in root.xpath(\"//tei:milestone[@n]\", namespaces=ns):\n",
    "    n_value = milestone.get(\"n\")\n",
    "    next_note = milestone.xpath(\"following::tei:note[1]\", namespaces=ns)\n",
    "\n",
    "    if next_note:\n",
    "        note = next_note[0]\n",
    "        # Kombiniere mehrere n-Werte, falls notwendig\n",
    "        if note.get(\"n\"):\n",
    "            existing = note.get(\"n\")\n",
    "            if n_value not in existing.split(\", \"):  # Duplikate vermeiden\n",
    "                note.set(\"n\", f\"{existing},{n_value}\")\n",
    "        else:\n",
    "            note.set(\"n\", n_value)\n",
    "        milestone.attrib.pop(\"n\")\n",
    "    else:\n",
    "        # Für Logging\n",
    "        line = milestone.sourceline\n",
    "        path = root.getroottree().getpath(milestone)\n",
    "        missing_n_entries.append({\"n\": n_value, \"line\": line, \"xpath\": path})\n",
    "\n",
    "tree.write(output_path, encoding=\"utf-8\", xml_declaration=True, pretty_print=True)\n",
    "\n",
    "with open(csv_log_path, mode=\"w\", newline='', encoding=\"utf-8\") as csv_file:\n",
    "    fieldnames = [\"n\", \"line\", \"xpath\"]\n",
    "    writer = csv.DictWriter(csv_file, fieldnames=fieldnames)\n",
    "    writer.writeheader()\n",
    "    writer.writerows(missing_n_entries)\n",
    "\n",
    "print(f\"Fertig! {len(missing_n_entries)} milestones ohne note. Alle n-Werte kombiniert, nichts mehr überschrieben.\")\n",
    "\n"
   ]
  }
 ],
 "metadata": {
  "kernelspec": {
   "display_name": "Python 3",
   "language": "python",
   "name": "python3"
  },
  "language_info": {
   "codemirror_mode": {
    "name": "ipython",
    "version": 3
   },
   "file_extension": ".py",
   "mimetype": "text/x-python",
   "name": "python",
   "nbconvert_exporter": "python",
   "pygments_lexer": "ipython3",
   "version": "3.12.0"
  }
 },
 "nbformat": 4,
 "nbformat_minor": 2
}
