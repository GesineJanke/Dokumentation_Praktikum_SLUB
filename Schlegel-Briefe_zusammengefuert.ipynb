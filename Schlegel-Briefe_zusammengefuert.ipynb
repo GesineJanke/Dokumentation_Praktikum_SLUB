{
 "cells": [
  {
   "cell_type": "markdown",
   "metadata": {},
   "source": [
    "# Zusammenführen der einzelnen XML-Dateien"
   ]
  },
  {
   "cell_type": "code",
   "execution_count": null,
   "metadata": {},
   "outputs": [],
   "source": [
    "import os\n",
    "from lxml import etree\n",
    "\n",
    "# Funktion, um TEI-Dateien zu filtern und zusammenzuführen\n",
    "def merge_tei_files(input_folder, output_file, library_city):\n",
    "    # Namespace für TEI-Dokumente definieren\n",
    "    namespaces = {'tei': 'http://www.tei-c.org/ns/1.0'}\n",
    "\n",
    "    # Ein neues Wurzelelement <TEI> für die kombinierte Datei erstellen\n",
    "    combined_root = etree.Element(\"TEI\", nsmap={None: \"http://www.tei-c.org/ns/1.0\"})\n",
    "\n",
    "    # Alle Dateien im Eingabeordner durchlaufen\n",
    "    for filename in os.listdir(input_folder):\n",
    "        # Nur XML-Dateien berücksichtigen\n",
    "        if filename.endswith(\".xml\"):\n",
    "            file_path = os.path.join(input_folder, filename)\n",
    "\n",
    "            # Die aktuelle TEI-Datei einlesen\n",
    "            tree = etree.parse(file_path)\n",
    "            root = tree.getroot()\n",
    "\n",
    "            # Das <institution>-Element innerhalb von <msIdentifier> finden\n",
    "            institution = root.find(\".//tei:msIdentifier/tei:institution\", namespaces)\n",
    "\n",
    "            # Prüfen, ob das <institution>-Element existiert und die gewünschte Bibliothek enthält\n",
    "            if institution is not None and library_city in institution.text:\n",
    "                # Das <teiHeader>-Element aus der aktuellen Datei finden\n",
    "                header_element = root.find(\".//tei:teiHeader\", namespaces)\n",
    "\n",
    "                # Das <text>-Element aus der aktuellen Datei finden\n",
    "                text_element = root.find(\".//tei:text\", namespaces)\n",
    "\n",
    "                # Wenn ein <teiHeader>-Element vorhanden ist, füge das Dateinamen-Attribut hinzu\n",
    "                if header_element is not None:\n",
    "                    # Füge das Attribut 'filename' mit dem Dateinamen als Wert zum <teiHeader>-Element hinzu\n",
    "                    header_element.set('filename', filename)\n",
    "\n",
    "                    # Füge das <teiHeader>-Element zur kombinierten Datei hinzu\n",
    "                    combined_root.append(header_element)\n",
    "\n",
    "                # Wenn ein <text>-Element vorhanden ist, füge es ebenfalls hinzu\n",
    "                if text_element is not None:\n",
    "\n",
    "                # Füge das Attribut 'filename' mit dem Dateinamen als Wert zum <text>-Element hinzu\n",
    "                    text_element.set('filename', filename)\n",
    "                    \n",
    "                    combined_root.append(text_element)\n",
    "\n",
    "    # Die kombinierte TEI-Datei speichern\n",
    "    combined_tree = etree.ElementTree(combined_root)\n",
    "    with open(output_file, \"wb\") as f:\n",
    "        # XML-Deklaration einmalig schreiben\n",
    "        f.write(b'<?xml version=\"1.0\" encoding=\"UTF-8\"?>\\n')\n",
    "        # Die kombinierte Datei mit Einrückung und UTF-8-Kodierung speichern\n",
    "        f.write(etree.tostring(combined_tree, pretty_print=True, encoding=\"UTF-8\"))\n",
    "\n",
    "# Parameter festlegen\n",
    "input_folder = \"/Users/Mustermann/Desktop/Datei\"  # Pfad zum Ordner, in dem die TEI-Dateien liegen\n",
    "output_file = \"/Users/Mustermann/Desktop/Zusammengefügte-Datei.xml\"  # Pfad und Name der Ausgabedatei\n",
    "library_city = \"Dresden, Sächsische Landesbibliothek - Staats- und Universitätsbibliothek\"  # Gesuchte Bibliothek\n",
    "\n",
    "\n",
    "# Die Funktion ausführen, um die TEI-Dateien zu filtern und zusammenzuführen\n",
    "merge_tei_files(input_folder, output_file, library_city)\n",
    "\n",
    "# Erfolgsnachricht ausgeben\n",
    "print(f\"Die TEI-Dateien wurden erfolgreich in '{output_file}' zusammengeführt.\")\n"
   ]
  },
  {
   "cell_type": "markdown",
   "metadata": {},
   "source": [
    "### Zusammengefügte XML Dateien abgleichen\n",
    "Überprüfen, ob die Ansätze mit Python und XQuery übereinstimmen. Dafür werden die Dateinamen der Schlegel-Briefe aus der SLUB miteinander verglichen."
   ]
  },
  {
   "cell_type": "code",
   "execution_count": null,
   "metadata": {},
   "outputs": [
    {
     "name": "stdout",
     "output_type": "stream",
     "text": [
      "Dateien stimmen überein\n"
     ]
    }
   ],
   "source": [
    "import os\n",
    "from lxml import etree\n",
    "\n",
    "def extract_filenames(file_path):\n",
    "    \"\"\"Extrahiert die Dateinamen aus einer XML-Datei\"\"\"\n",
    "    tree = etree.parse(file_path)\n",
    "    filenames = [filename.text for filename in tree.xpath(\"//TEI\")]\n",
    "    return set(filenames)  # Set für schnellen Vergleich\n",
    "\n",
    "def compare_files(file1, file2):\n",
    "    \"\"\"Vergleicht die Dateinamen in zwei XML-Dateien und gibt Unterschiede aus\"\"\"\n",
    "    # Dateinamen aus den beiden XML-Dateien extrahieren\n",
    "    filenames_file1 = extract_filenames(file1)\n",
    "    filenames_file2 = extract_filenames(file2)\n",
    "\n",
    "    # Finde die Dateinamen, die in Datei 1, aber nicht in Datei 2 sind\n",
    "    only_in_file1 = filenames_file1 - filenames_file2\n",
    "    # Finde die Dateinamen, die in Datei 2, aber nicht in Datei 1 sind\n",
    "    only_in_file2 = filenames_file2 - filenames_file1\n",
    "\n",
    "    # Ausgabe der Unterschiede\n",
    "    if only_in_file1:\n",
    "        print(f\"Dateinamen in {file1}, aber nicht in {file2}:\")\n",
    "        for filename in only_in_file1:\n",
    "            print(filename)\n",
    "\n",
    "    if only_in_file2:\n",
    "        print(f\"Dateinamen in {file2}, aber nicht in {file1}:\")\n",
    "        for filename in only_in_file2:\n",
    "            print(filename)\n",
    "    else:\n",
    "        print(\"Dateien stimmen überein\")\n",
    "\n",
    "# Pfade zu den beiden gemergten XML-Dateien\n",
    "file1 = \"/Users/Mustermann/Desktop/Zusammengefügte-Datei-1.xml\"  # Pfad zur ersten XML-Datei\n",
    "file2 = \"/Users/Mustermann/Desktop/Zusammengefügte-Datei-2.xml\"  # Pfad zur zweiten XML-Datei\n",
    "\n",
    "# Vergleiche die Dateien und gib die Unterschiede aus\n",
    "compare_files(file1, file2)\n"
   ]
  }
 ],
 "metadata": {
  "kernelspec": {
   "display_name": "Python 3",
   "language": "python",
   "name": "python3"
  },
  "language_info": {
   "codemirror_mode": {
    "name": "ipython",
    "version": 3
   },
   "file_extension": ".py",
   "mimetype": "text/x-python",
   "name": "python",
   "nbconvert_exporter": "python",
   "pygments_lexer": "ipython3",
   "version": "3.12.10"
  }
 },
 "nbformat": 4,
 "nbformat_minor": 2
}
