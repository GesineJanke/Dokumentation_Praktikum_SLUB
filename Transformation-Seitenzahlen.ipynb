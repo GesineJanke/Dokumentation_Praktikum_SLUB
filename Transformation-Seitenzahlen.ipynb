{
 "cells": [
  {
   "cell_type": "markdown",
   "metadata": {},
   "source": [
    "# Transformation der Seitenzahlen\n",
    "\n",
    "Seitenzahlen in eckigen Klammern z.B. [1] werden in das TEI Element ‹pb› umgewandelt."
   ]
  },
  {
   "cell_type": "code",
   "execution_count": null,
   "metadata": {},
   "outputs": [
    {
     "name": "stdout",
     "output_type": "stream",
     "text": [
      "Transformation abgeschlossen. Neue Datei gespeichert als: /Users/gesine/Desktop/test.xml\n"
     ]
    }
   ],
   "source": [
    "import re\n",
    "import xml.etree.ElementTree as ET\n",
    "\n",
    "def transform_tei_xml(input_file, output_file):\n",
    "    # TEI-XML Datei einlesen\n",
    "    with open(input_file, \"r\", encoding=\"utf-8\") as file:\n",
    "        xml_content = file.read()\n",
    "    \n",
    "    # Seitenzahlen in eckigen Klammern finden (z.B. [12])\n",
    "    pattern = re.compile(r\"\\[(\\d{1,2})\\](?!\\d)\")\n",
    "    pattern2 = re.compile(r\"\\[(\\d{1,2})\\](?!\\.)\")\n",
    "    \n",
    "    # Transformation: Ersetze [12] mit <pb n=\"12\"/>\n",
    "    def replacer(match):\n",
    "        page_number = match.group(1)\n",
    "        return f'<pb n=\"{page_number}\"/>'\n",
    "    \n",
    "    transformed_content = pattern.sub(replacer, xml_content); pattern2.sub(replacer, xml_content)\n",
    "    \n",
    "    # Ausgabe der transformierten Datei\n",
    "    with open(output_file, \"w\", encoding=\"utf-8\") as file:\n",
    "        file.write(transformed_content)\n",
    "    \n",
    "    print(f\"Transformation abgeschlossen. Neue Datei gespeichert als: {output_file}\")\n",
    "\n",
    "\n",
    "# Parameter angeben\n",
    "input_file = \"/Users/Mustermann/Desktop/Zusammengefügte-Datei.xml\" # Pfad und Name der Eingabedatei\n",
    "output_file = \"/Users/Mustermann/Desktop/Transformation-Seitenzahl.xml\"  # Pfad und Name der Ausgabedatei\n",
    "\n",
    "# Ergebnis ausgeben\n",
    "transform_tei_xml(input_file, output_file)\n",
    "\n"
   ]
  }
 ],
 "metadata": {
  "kernelspec": {
   "display_name": "Python 3",
   "language": "python",
   "name": "python3"
  },
  "language_info": {
   "codemirror_mode": {
    "name": "ipython",
    "version": 3
   },
   "file_extension": ".py",
   "mimetype": "text/x-python",
   "name": "python",
   "nbconvert_exporter": "python",
   "pygments_lexer": "ipython3",
   "version": "3.12.10"
  }
 },
 "nbformat": 4,
 "nbformat_minor": 2
}
